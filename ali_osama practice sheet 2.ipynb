{
 "cells": [
  {
   "cell_type": "markdown",
   "metadata": {},
   "source": [
    "# Python User Define Function Practice Activity - 2 "
   ]
  },
  {
   "cell_type": "markdown",
   "metadata": {},
   "source": [
    "Asst. Prof. Syed Faisal Ali              $\\;\\;\\;\\;\\;\\;$              Programming Fundamentals - FALL 2019 $\\;\\;\\;\\;\\;\\;$ Software Engineering                     $\\;\\;\\;\\;\\;\\;$                   Dated: 27 Nov 2019"
   ]
  },
  {
   "cell_type": "markdown",
   "metadata": {},
   "source": [
    "Question 1: Create a function to find the following:\n",
    "If the base of triangle is 3 cm long and its equilateral triangle and the radius of circle is 1.5 cm then find the area of triangle shaded. \n"
   ]
  },
  {
   "cell_type": "markdown",
   "metadata": {},
   "source": [
    "![proj](q1.jpg)"
   ]
  },
  {
   "cell_type": "code",
   "execution_count": 19,
   "metadata": {},
   "outputs": [
    {
     "name": "stdout",
     "output_type": "stream",
     "text": [
      "base_of_triangle:3\n",
      "radius_of_circle:1.5\n",
      "The shaded area of triangle is: 16.314102431602805 cm³\n"
     ]
    }
   ],
   "source": [
    "def function1():\n",
    "    import math\n",
    "    from math import pi\n",
    "    base_of_triangle=int(input(\"base_of_triangle:\"))\n",
    "    radius_of_circle=float(input(\"radius_of_circle:\"))\n",
    "    area_of_triangle=((math.sqrt(3))/4)*base_of_triangle**2\n",
    "    area_of_circle=pi*(radius_of_circle**2)\n",
    "    area_of_triangle6=area_of_triangle*6\n",
    "    shaded_area_of_traingle=area_of_triangle6-area_of_circle\n",
    "    print(\"The shaded area of triangle is:\",shaded_area_of_traingle,'cm\\u00b3')\n",
    "function1()"
   ]
  },
  {
   "cell_type": "code",
   "execution_count": null,
   "metadata": {},
   "outputs": [],
   "source": [
    "# Question 2: Create a function which can read a dictionary of your family members such as 5 members. \n",
    "1 Abbu, 1 Ammi, 2 Brothers 1 Sister. Now feed this data in dictionary in terms of name and relations.\n",
    "The UDF will ask findrelation() in this you will enter Brother it will return the names of two brothers you have inserted. In case if the relation is not found it will return “Sorry the relation doesn’t exist in your family.” \n"
   ]
  },
  {
   "cell_type": "code",
   "execution_count": null,
   "metadata": {},
   "outputs": [],
   "source": []
  },
  {
   "cell_type": "markdown",
   "metadata": {},
   "source": [
    "Question 3: Create a function to find the following:\n",
    "If the base of triangle is 5 cm long and its equilateral triangle and the radius of circle is 2.25 cm then find the area of triangle shaded. \n"
   ]
  },
  {
   "cell_type": "markdown",
   "metadata": {},
   "source": [
    "![proj](q3.jpg)"
   ]
  },
  {
   "cell_type": "code",
   "execution_count": 20,
   "metadata": {},
   "outputs": [
    {
     "name": "stdout",
     "output_type": "stream",
     "text": [
      "base_of_triangle:5\n",
      "radius_of_circle:2.25\n",
      "The shaded area of triangle is: 5.078995261492844 cm³\n"
     ]
    }
   ],
   "source": [
    "def function1():\n",
    "    import math\n",
    "    from math import pi\n",
    "    base_of_triangle=int(input(\"base_of_triangle:\"))\n",
    "    radius_of_circle=float(input(\"radius_of_circle:\"))\n",
    "    area_of_triangle=((math.sqrt(3))/4)*base_of_triangle**2\n",
    "    area_of_circle=pi*(radius_of_circle**2)\n",
    "    shaded_area_of_traingle=area_of_circle-area_of_triangle\n",
    "    print(\"The shaded area of triangle is:\",shaded_area_of_traingle,'cm\\u00b3')\n",
    "function1()"
   ]
  },
  {
   "cell_type": "markdown",
   "metadata": {},
   "source": [
    "Question 4:\n",
    "Create a function that takes a list of random numbers from users and add only those which are even. If all the numbers are odd it will return sorry no even number found.\n"
   ]
  },
  {
   "cell_type": "code",
   "execution_count": 17,
   "metadata": {},
   "outputs": [
    {
     "name": "stdout",
     "output_type": "stream",
     "text": [
      "enter the numbers:2\n",
      "enter the numbers:4\n",
      "enter the numbers:6\n",
      "enter the numbers:8\n",
      "enter the numbers:1\n",
      "enter the numbers:3\n",
      "total sum of even numbers only 2\n",
      "total sum of even numbers only 6\n",
      "total sum of even numbers only 12\n",
      "total sum of even numbers only 20\n"
     ]
    }
   ],
   "source": [
    "def add():\n",
    "    a=['','','','','','']\n",
    "    sum=0\n",
    "    for i in range(6):\n",
    "        a[i]=int(input(\"enter the numbers:\"))\n",
    "        \n",
    "    for i in (a):\n",
    "        if i%2==0:\n",
    "            sum=sum+i\n",
    "            print(\"total sum of even numbers only\",sum)\n",
    "add()"
   ]
  },
  {
   "cell_type": "code",
   "execution_count": null,
   "metadata": {},
   "outputs": [],
   "source": [
    "Question 5:\n",
    "Write a function which can take a list of numbers and it will return sorted list.\n"
   ]
  },
  {
   "cell_type": "code",
   "execution_count": 18,
   "metadata": {},
   "outputs": [
    {
     "data": {
      "text/plain": [
       "['1', '2', '3', '4', '5', '6', '7', '8']"
      ]
     },
     "execution_count": 18,
     "metadata": {},
     "output_type": "execute_result"
    }
   ],
   "source": [
    "def sort():\n",
    "    a=['8','7','5','6','1','3','4','2']\n",
    "    a.sort()\n",
    "    return a\n",
    "sort()"
   ]
  },
  {
   "cell_type": "markdown",
   "metadata": {},
   "source": [
    "Question 6:\n",
    "Write a function that will take the radius and return the perimeter and area of circle with 5% increment.\n"
   ]
  },
  {
   "cell_type": "code",
   "execution_count": 36,
   "metadata": {},
   "outputs": [
    {
     "name": "stdout",
     "output_type": "stream",
     "text": [
      "enter the radius:4\n",
      "The perimeter of circle: 26.389378290154266\n",
      "The area of circle: 52.77875658030853\n"
     ]
    }
   ],
   "source": [
    "def function():\n",
    "    from math import pi\n",
    "    r=int(input(\"enter the radius:\"))\n",
    "    C=((2*pi*r)/100)*105\n",
    "    print(\"The perimeter of circle:\",C)\n",
    "    A=(pi*(r**2)/100)*105\n",
    "    print(\"The area of circle:\",A)\n",
    "function()"
   ]
  },
  {
   "cell_type": "markdown",
   "metadata": {},
   "source": [
    "Question 7:\n",
    "Write a function that will take the strings as argument and return number of vowels and consonants.\n"
   ]
  },
  {
   "cell_type": "code",
   "execution_count": 7,
   "metadata": {},
   "outputs": [
    {
     "name": "stdout",
     "output_type": "stream",
     "text": [
      "enter the string:hello pakistan HELLO PAKISTAN\n",
      "{'a': 4, 'e': 2, 'i': 2, 'o': 2, 'u': 0, 'A': 0, 'E': 0, 'I': 0, 'O': 0, 'U': 0}\n"
     ]
    }
   ],
   "source": [
    "def Check_Vow(string, vowels): \n",
    "    string = string.casefold() \n",
    "    count = {}.fromkeys(vowels, 0) \n",
    "    for character in string:\n",
    "        if character in count:\n",
    "            count[character] += 1    \n",
    "    return count \n",
    "vowels = 'aeiouAEIOU'\n",
    "string=str(input(\"enter the string:\"))\n",
    "print (Check_Vow(string, vowels)) "
   ]
  },
  {
   "cell_type": "markdown",
   "metadata": {},
   "source": [
    "Question 8:\n",
    "Write a function that will take length and breadth for a rectangle and return perimeter and area of rectangle with 8% increment.\n"
   ]
  },
  {
   "cell_type": "code",
   "execution_count": 39,
   "metadata": {},
   "outputs": [
    {
     "name": "stdout",
     "output_type": "stream",
     "text": [
      "enter the length of rectangle:5\n",
      "enter the width of rectangle:4\n",
      "the perimeter with increment 19.44\n",
      "the area with increment 21.6\n"
     ]
    }
   ],
   "source": [
    "def function():\n",
    "    l=int(input(\"enter the length of rectangle:\"))\n",
    "    w=int(input(\"enter the width of rectangle:\"))\n",
    "    p=2*(l+w)*1.08\n",
    "    print(\"the perimeter with increment\",p)\n",
    "    a=(w*l)*1.08\n",
    "    print(\"the area with increment\",a)\n",
    "function()    "
   ]
  },
  {
   "cell_type": "markdown",
   "metadata": {},
   "source": [
    "Question 9:\n",
    "Write a function that can take the numbers in strings. From string find which number is even and which one is odd. Save them in two different lists and generate the result.\n"
   ]
  },
  {
   "cell_type": "code",
   "execution_count": 23,
   "metadata": {},
   "outputs": [
    {
     "name": "stdout",
     "output_type": "stream",
     "text": [
      "Even Numbers:  4\n",
      "Odd Numbers:  5\n"
     ]
    }
   ],
   "source": [
    "def even_odd():\n",
    "    a=(1,2,3,4,5,6,7,8,9)\n",
    "    E=0\n",
    "    O=0\n",
    "    for num in a:\n",
    "        if num % 2 ==0:\n",
    "            E= E+1\n",
    "        else:\n",
    "            O=O+1\n",
    "    print(\"Even Numbers: \",E)\n",
    "    print(\"Odd Numbers: \",O)\n",
    "even_odd()"
   ]
  },
  {
   "cell_type": "markdown",
   "metadata": {},
   "source": [
    "Question 10:\n",
    "Write a function which will take the string from the user and return how many alphabets have been used in it and which alphabets are missing.\n"
   ]
  },
  {
   "cell_type": "code",
   "execution_count": 3,
   "metadata": {
    "scrolled": true
   },
   "outputs": [
    {
     "name": "stdout",
     "output_type": "stream",
     "text": [
      "{'y', 'w', 'z', 'x'}\n"
     ]
    }
   ],
   "source": [
    "from string import ascii_lowercase\n",
    "alphabet = set(ascii_lowercase)\n",
    "def missing_letters(string):\n",
    "    return alphabet - set(string.lower())\n",
    "print(missing_letters(\"abcdefghijklmnopqrstuv\"))   "
   ]
  },
  {
   "cell_type": "markdown",
   "metadata": {},
   "source": [
    "Question 11:\n",
    "Write a function that will take verbs in words and return a list of verbs with continuous tense by adding (ing) at the end of each verb.\n"
   ]
  },
  {
   "cell_type": "code",
   "execution_count": 6,
   "metadata": {},
   "outputs": [
    {
     "name": "stdout",
     "output_type": "stream",
     "text": [
      "enter the verb:go\n",
      "enter the verb:play\n",
      "enter the verb:run\n",
      "enter the verb:study\n",
      "enter the verb:jump\n",
      "('going', 'playing', 'runing', 'studying', 'jumping')\n"
     ]
    }
   ],
   "source": [
    "def function():\n",
    "    a=str(input(\"enter the verb:\"))\n",
    "    b=str(input(\"enter the verb:\"))\n",
    "    c=str(input(\"enter the verb:\"))\n",
    "    d=str(input(\"enter the verb:\"))\n",
    "    e=str(input(\"enter the verb:\"))\n",
    "    print(str((a+'ing',b+'ing',c+'ing',d+'ing',e+'ing')))\n",
    "function()"
   ]
  },
  {
   "cell_type": "markdown",
   "metadata": {},
   "source": [
    "Question 12:\n",
    "Make a function which can take two radius of circles and find the areas of it and subtract smaller one from larger one and tell the remaining area of circle.\n"
   ]
  },
  {
   "cell_type": "code",
   "execution_count": 54,
   "metadata": {},
   "outputs": [
    {
     "name": "stdout",
     "output_type": "stream",
     "text": [
      "enter radius of circle1:4\n",
      "enter radius of circle2:6\n",
      "62.83185307179586\n"
     ]
    }
   ],
   "source": [
    "def function():\n",
    "    from math import pi\n",
    "    r1=int(input(\"enter radius of circle1:\"))\n",
    "    r2=int(input(\"enter radius of circle2:\"))\n",
    "    A1=pi*(r1**2)\n",
    "    A2=pi*(r2**2)\n",
    "    if r1<r2:\n",
    "        print(A2-A1)\n",
    "    else:\n",
    "        print(A1-A2)\n",
    "function()"
   ]
  },
  {
   "cell_type": "markdown",
   "metadata": {},
   "source": [
    "Question 13:\n",
    "Write a function that will take a string and calculate number of Upper case letters and lower case letters.\n"
   ]
  },
  {
   "cell_type": "code",
   "execution_count": null,
   "metadata": {},
   "outputs": [],
   "source": []
  },
  {
   "cell_type": "markdown",
   "metadata": {},
   "source": [
    "Question 14:\n",
    "Write a function which will take length and breadth of two rectangles. Subtract the smaller rectangle from the larger rectangle and return the area left behind.\n"
   ]
  },
  {
   "cell_type": "code",
   "execution_count": 55,
   "metadata": {},
   "outputs": [
    {
     "name": "stdout",
     "output_type": "stream",
     "text": [
      "enter the length:4\n",
      "enter the breadth:3\n",
      "enter the length:5\n",
      "enter the breadth:4\n",
      "8\n"
     ]
    }
   ],
   "source": [
    "def rectangle():\n",
    "    l1=int(input(\"enter the length:\"))\n",
    "    b1=int(input(\"enter the breadth:\"))\n",
    "    A1=(l1*b1)\n",
    "    l2=int(input(\"enter the length:\"))\n",
    "    b2=int(input(\"enter the breadth:\"))\n",
    "    A2=(l2*b2)\n",
    "    if A1<A2:\n",
    "        print(A2-A1)\n",
    "    else:\n",
    "        print(A1-A2)\n",
    "rectangle()"
   ]
  },
  {
   "cell_type": "markdown",
   "metadata": {},
   "source": [
    "Question 15:\n",
    "Create a function that can add the fractions in series such as 1 to 8 = 1/8+1/7+1/6+1/5 …… ½ and return the result in fraction not in decimal.\n"
   ]
  },
  {
   "cell_type": "code",
   "execution_count": 28,
   "metadata": {},
   "outputs": [
    {
     "name": "stdout",
     "output_type": "stream",
     "text": [
      "761/280\n"
     ]
    }
   ],
   "source": [
    "def add():\n",
    "    from fractions import Fraction\n",
    "    sum = 0\n",
    "    for i in range(1,9):\n",
    "        sum=sum+Fraction(1,i)\n",
    "    print(sum)\n",
    "add()"
   ]
  },
  {
   "cell_type": "markdown",
   "metadata": {},
   "source": [
    "Question 16:\n",
    "Write a function which will take height and base for a triangle and \n"
   ]
  },
  {
   "cell_type": "markdown",
   "metadata": {},
   "source": [
    "Question 17:\n",
    "Write a function which will take a list of fruits names. The function will return how many alphabets are repetitive in the names of fruits and how many are unique letters.\n"
   ]
  },
  {
   "cell_type": "code",
   "execution_count": null,
   "metadata": {},
   "outputs": [],
   "source": []
  },
  {
   "cell_type": "markdown",
   "metadata": {},
   "source": [
    "Question 18:\n",
    "Write a function that can take square length and radius of circle. Find the area of both and subtract the smallest shape from largest one and return the remaining shape area.\n"
   ]
  },
  {
   "cell_type": "code",
   "execution_count": 2,
   "metadata": {},
   "outputs": [
    {
     "name": "stdout",
     "output_type": "stream",
     "text": [
      "enter the length:2\n",
      "enter the radius:4\n",
      "the_area_of_circle is: 50.26548245743669\n",
      "the_area_of_square is: 4\n",
      "46.26548245743669\n"
     ]
    }
   ],
   "source": [
    "def function():\n",
    "    from math import pi\n",
    "    l=int(input(\"enter the length:\"))\n",
    "    r=int(input(\"enter the radius:\"))\n",
    "    area_of_circle=pi*r**2\n",
    "    print(\"the_area_of_circle is:\",area_of_circle)\n",
    "    area_of_square=l**2\n",
    "    print(\"the_area_of_square is:\",area_of_square)\n",
    "    total_area=area_of_circle-area_of_square\n",
    "    print(total_area)\n",
    "function()"
   ]
  }
 ],
 "metadata": {
  "kernelspec": {
   "display_name": "Python 3",
   "language": "python",
   "name": "python3"
  },
  "language_info": {
   "codemirror_mode": {
    "name": "ipython",
    "version": 3
   },
   "file_extension": ".py",
   "mimetype": "text/x-python",
   "name": "python",
   "nbconvert_exporter": "python",
   "pygments_lexer": "ipython3",
   "version": "3.7.4"
  }
 },
 "nbformat": 4,
 "nbformat_minor": 2
}
